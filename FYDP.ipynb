{
 "cells": [
  {
   "cell_type": "markdown",
   "metadata": {},
   "source": [
    "# Import Libraries & CSV"
   ]
  },
  {
   "cell_type": "markdown",
   "metadata": {},
   "source": [
    "Lewis is stupid"
   ]
  },
  {
   "cell_type": "markdown",
   "metadata": {},
   "source": [
    "sdfsfdfsdfsdf"
   ]
  },
  {
   "cell_type": "code",
   "execution_count": 1,
   "metadata": {
    "scrolled": false
   },
   "outputs": [
    {
     "name": "stdout",
     "output_type": "stream",
     "text": [
      "Collecting pulp\n",
      "  Downloading https://files.pythonhosted.org/packages/b5/87/71293d89377341551f2f331d259c0b7e7324b60ce37c597d0a42f0ebc18d/PuLP-1.6.8.tar.gz (13.5MB)\n",
      "\u001b[K    100% |████████████████████████████████| 13.5MB 123kB/s ta 0:00:01\n",
      "\u001b[?25hRequirement already satisfied: pyparsing>=2.0.1 in /anaconda3/lib/python3.6/site-packages (from pulp)\n",
      "Building wheels for collected packages: pulp\n",
      "  Running setup.py bdist_wheel for pulp ... \u001b[?25ldone\n",
      "\u001b[?25h  Stored in directory: /Users/juliekim/Library/Caches/pip/wheels/cd/1a/23/d1947610005912274e128267c5ed1bcc1fe6dece9f2d4d1c84\n",
      "Successfully built pulp\n",
      "Installing collected packages: pulp\n",
      "Successfully installed pulp-1.6.8\n",
      "\u001b[33mYou are using pip version 9.0.1, however version 18.1 is available.\n",
      "You should consider upgrading via the 'pip install --upgrade pip' command.\u001b[0m\n"
     ]
    }
   ],
   "source": [
    "!pip install pulp"
   ]
  },
  {
   "cell_type": "markdown",
   "metadata": {},
   "source": [
    "fsdflwlek;kewr;kew"
   ]
  },
  {
   "cell_type": "code",
   "execution_count": 1,
   "metadata": {},
   "outputs": [],
   "source": [
    "import pandas as pd"
   ]
  },
  {
   "cell_type": "code",
   "execution_count": 2,
   "metadata": {},
   "outputs": [],
   "source": [
    "fuel_output = pd.read_csv('/Users/juliekim/Desktop/FYDP data/on_fuel_source_output_2017.csv', keep_default_na=False, na_values=[\"\"])"
   ]
  },
  {
   "cell_type": "code",
   "execution_count": 3,
   "metadata": {},
   "outputs": [],
   "source": [
    "fuel_demand = pd.read_csv('/Users/juliekim/Desktop/FYDP data/on_demand_2017.csv', keep_default_na=False, na_values=[\"\"])"
   ]
  },
  {
   "cell_type": "markdown",
   "metadata": {},
   "source": [
    "# Data Manipulation"
   ]
  },
  {
   "cell_type": "code",
   "execution_count": 4,
   "metadata": {},
   "outputs": [
    {
     "data": {
      "text/html": [
       "<div>\n",
       "<style scoped>\n",
       "    .dataframe tbody tr th:only-of-type {\n",
       "        vertical-align: middle;\n",
       "    }\n",
       "\n",
       "    .dataframe tbody tr th {\n",
       "        vertical-align: top;\n",
       "    }\n",
       "\n",
       "    .dataframe thead th {\n",
       "        text-align: right;\n",
       "    }\n",
       "</style>\n",
       "<table border=\"1\" class=\"dataframe\">\n",
       "  <thead>\n",
       "    <tr style=\"text-align: right;\">\n",
       "      <th></th>\n",
       "      <th>Date</th>\n",
       "      <th>Hour</th>\n",
       "      <th>Fuel</th>\n",
       "      <th>Output</th>\n",
       "    </tr>\n",
       "  </thead>\n",
       "  <tbody>\n",
       "    <tr>\n",
       "      <th>0</th>\n",
       "      <td>2017-01-01</td>\n",
       "      <td>1</td>\n",
       "      <td>NUCLEAR</td>\n",
       "      <td>11592</td>\n",
       "    </tr>\n",
       "    <tr>\n",
       "      <th>1</th>\n",
       "      <td>2017-01-01</td>\n",
       "      <td>1</td>\n",
       "      <td>GAS</td>\n",
       "      <td>234</td>\n",
       "    </tr>\n",
       "    <tr>\n",
       "      <th>2</th>\n",
       "      <td>2017-01-01</td>\n",
       "      <td>1</td>\n",
       "      <td>HYDRO</td>\n",
       "      <td>2455</td>\n",
       "    </tr>\n",
       "    <tr>\n",
       "      <th>3</th>\n",
       "      <td>2017-01-01</td>\n",
       "      <td>1</td>\n",
       "      <td>WIND</td>\n",
       "      <td>2433</td>\n",
       "    </tr>\n",
       "    <tr>\n",
       "      <th>4</th>\n",
       "      <td>2017-01-01</td>\n",
       "      <td>1</td>\n",
       "      <td>SOLAR</td>\n",
       "      <td>0</td>\n",
       "    </tr>\n",
       "  </tbody>\n",
       "</table>\n",
       "</div>"
      ],
      "text/plain": [
       "         Date  Hour     Fuel  Output\n",
       "0  2017-01-01     1  NUCLEAR   11592\n",
       "1  2017-01-01     1      GAS     234\n",
       "2  2017-01-01     1    HYDRO    2455\n",
       "3  2017-01-01     1     WIND    2433\n",
       "4  2017-01-01     1    SOLAR       0"
      ]
     },
     "execution_count": 4,
     "metadata": {},
     "output_type": "execute_result"
    }
   ],
   "source": [
    "fuel_output.head()"
   ]
  },
  {
   "cell_type": "markdown",
   "metadata": {},
   "source": [
    "subtract 1 hour because we want 0 to 23 hr "
   ]
  },
  {
   "cell_type": "markdown",
   "metadata": {},
   "source": [
    "gvggg"
   ]
  },
  {
   "cell_type": "code",
   "execution_count": 5,
   "metadata": {},
   "outputs": [],
   "source": [
    "fuel_output['Hour'] = fuel_output['Hour'] - 1"
   ]
  },
  {
   "cell_type": "code",
   "execution_count": 6,
   "metadata": {},
   "outputs": [
    {
     "data": {
      "text/html": [
       "<div>\n",
       "<style scoped>\n",
       "    .dataframe tbody tr th:only-of-type {\n",
       "        vertical-align: middle;\n",
       "    }\n",
       "\n",
       "    .dataframe tbody tr th {\n",
       "        vertical-align: top;\n",
       "    }\n",
       "\n",
       "    .dataframe thead th {\n",
       "        text-align: right;\n",
       "    }\n",
       "</style>\n",
       "<table border=\"1\" class=\"dataframe\">\n",
       "  <thead>\n",
       "    <tr style=\"text-align: right;\">\n",
       "      <th></th>\n",
       "      <th>Date</th>\n",
       "      <th>Hour</th>\n",
       "      <th>Fuel</th>\n",
       "      <th>Output</th>\n",
       "    </tr>\n",
       "  </thead>\n",
       "  <tbody>\n",
       "    <tr>\n",
       "      <th>0</th>\n",
       "      <td>2017-01-01</td>\n",
       "      <td>0</td>\n",
       "      <td>NUCLEAR</td>\n",
       "      <td>11592</td>\n",
       "    </tr>\n",
       "    <tr>\n",
       "      <th>1</th>\n",
       "      <td>2017-01-01</td>\n",
       "      <td>0</td>\n",
       "      <td>GAS</td>\n",
       "      <td>234</td>\n",
       "    </tr>\n",
       "    <tr>\n",
       "      <th>2</th>\n",
       "      <td>2017-01-01</td>\n",
       "      <td>0</td>\n",
       "      <td>HYDRO</td>\n",
       "      <td>2455</td>\n",
       "    </tr>\n",
       "    <tr>\n",
       "      <th>3</th>\n",
       "      <td>2017-01-01</td>\n",
       "      <td>0</td>\n",
       "      <td>WIND</td>\n",
       "      <td>2433</td>\n",
       "    </tr>\n",
       "    <tr>\n",
       "      <th>4</th>\n",
       "      <td>2017-01-01</td>\n",
       "      <td>0</td>\n",
       "      <td>SOLAR</td>\n",
       "      <td>0</td>\n",
       "    </tr>\n",
       "  </tbody>\n",
       "</table>\n",
       "</div>"
      ],
      "text/plain": [
       "         Date  Hour     Fuel  Output\n",
       "0  2017-01-01     0  NUCLEAR   11592\n",
       "1  2017-01-01     0      GAS     234\n",
       "2  2017-01-01     0    HYDRO    2455\n",
       "3  2017-01-01     0     WIND    2433\n",
       "4  2017-01-01     0    SOLAR       0"
      ]
     },
     "execution_count": 6,
     "metadata": {},
     "output_type": "execute_result"
    }
   ],
   "source": [
    "fuel_output.head()"
   ]
  },
  {
   "cell_type": "code",
   "execution_count": 7,
   "metadata": {},
   "outputs": [
    {
     "data": {
      "text/html": [
       "<div>\n",
       "<style scoped>\n",
       "    .dataframe tbody tr th:only-of-type {\n",
       "        vertical-align: middle;\n",
       "    }\n",
       "\n",
       "    .dataframe tbody tr th {\n",
       "        vertical-align: top;\n",
       "    }\n",
       "\n",
       "    .dataframe thead th {\n",
       "        text-align: right;\n",
       "    }\n",
       "</style>\n",
       "<table border=\"1\" class=\"dataframe\">\n",
       "  <thead>\n",
       "    <tr style=\"text-align: right;\">\n",
       "      <th></th>\n",
       "      <th>Date</th>\n",
       "      <th>Hour</th>\n",
       "      <th>Ontario Demand</th>\n",
       "      <th>Northwest</th>\n",
       "      <th>Northeast</th>\n",
       "      <th>Ottawa</th>\n",
       "      <th>East</th>\n",
       "      <th>Toronto</th>\n",
       "      <th>Essa</th>\n",
       "      <th>Bruce</th>\n",
       "      <th>Southwest</th>\n",
       "      <th>Niagara</th>\n",
       "      <th>West</th>\n",
       "      <th>Zone Total</th>\n",
       "      <th>Diff</th>\n",
       "    </tr>\n",
       "  </thead>\n",
       "  <tbody>\n",
       "    <tr>\n",
       "      <th>0</th>\n",
       "      <td>2017-01-01</td>\n",
       "      <td>1</td>\n",
       "      <td>13522</td>\n",
       "      <td>495</td>\n",
       "      <td>1476</td>\n",
       "      <td>1051</td>\n",
       "      <td>1203</td>\n",
       "      <td>5665</td>\n",
       "      <td>1045</td>\n",
       "      <td>72</td>\n",
       "      <td>2986</td>\n",
       "      <td>465</td>\n",
       "      <td>1334</td>\n",
       "      <td>15790</td>\n",
       "      <td>2,268</td>\n",
       "    </tr>\n",
       "    <tr>\n",
       "      <th>1</th>\n",
       "      <td>2017-01-01</td>\n",
       "      <td>2</td>\n",
       "      <td>13117</td>\n",
       "      <td>495</td>\n",
       "      <td>1476</td>\n",
       "      <td>1051</td>\n",
       "      <td>1203</td>\n",
       "      <td>5665</td>\n",
       "      <td>1045</td>\n",
       "      <td>72</td>\n",
       "      <td>2986</td>\n",
       "      <td>465</td>\n",
       "      <td>1334</td>\n",
       "      <td>15790</td>\n",
       "      <td>2,673</td>\n",
       "    </tr>\n",
       "    <tr>\n",
       "      <th>2</th>\n",
       "      <td>2017-01-01</td>\n",
       "      <td>3</td>\n",
       "      <td>12816</td>\n",
       "      <td>495</td>\n",
       "      <td>1476</td>\n",
       "      <td>1051</td>\n",
       "      <td>1203</td>\n",
       "      <td>5665</td>\n",
       "      <td>1045</td>\n",
       "      <td>72</td>\n",
       "      <td>2986</td>\n",
       "      <td>465</td>\n",
       "      <td>1334</td>\n",
       "      <td>15790</td>\n",
       "      <td>2,974</td>\n",
       "    </tr>\n",
       "    <tr>\n",
       "      <th>3</th>\n",
       "      <td>2017-01-01</td>\n",
       "      <td>4</td>\n",
       "      <td>12605</td>\n",
       "      <td>495</td>\n",
       "      <td>1476</td>\n",
       "      <td>1051</td>\n",
       "      <td>1203</td>\n",
       "      <td>5665</td>\n",
       "      <td>1045</td>\n",
       "      <td>72</td>\n",
       "      <td>2986</td>\n",
       "      <td>465</td>\n",
       "      <td>1334</td>\n",
       "      <td>15790</td>\n",
       "      <td>3,186</td>\n",
       "    </tr>\n",
       "    <tr>\n",
       "      <th>4</th>\n",
       "      <td>2017-01-01</td>\n",
       "      <td>5</td>\n",
       "      <td>12563</td>\n",
       "      <td>495</td>\n",
       "      <td>1476</td>\n",
       "      <td>1051</td>\n",
       "      <td>1203</td>\n",
       "      <td>5665</td>\n",
       "      <td>1045</td>\n",
       "      <td>72</td>\n",
       "      <td>2986</td>\n",
       "      <td>465</td>\n",
       "      <td>1334</td>\n",
       "      <td>15790</td>\n",
       "      <td>3,227</td>\n",
       "    </tr>\n",
       "  </tbody>\n",
       "</table>\n",
       "</div>"
      ],
      "text/plain": [
       "         Date  Hour  Ontario Demand  Northwest  Northeast  Ottawa  East  \\\n",
       "0  2017-01-01     1           13522        495       1476    1051  1203   \n",
       "1  2017-01-01     2           13117        495       1476    1051  1203   \n",
       "2  2017-01-01     3           12816        495       1476    1051  1203   \n",
       "3  2017-01-01     4           12605        495       1476    1051  1203   \n",
       "4  2017-01-01     5           12563        495       1476    1051  1203   \n",
       "\n",
       "   Toronto  Essa  Bruce  Southwest  Niagara  West  Zone Total   Diff  \n",
       "0     5665  1045     72       2986      465  1334       15790  2,268  \n",
       "1     5665  1045     72       2986      465  1334       15790  2,673  \n",
       "2     5665  1045     72       2986      465  1334       15790  2,974  \n",
       "3     5665  1045     72       2986      465  1334       15790  3,186  \n",
       "4     5665  1045     72       2986      465  1334       15790  3,227  "
      ]
     },
     "execution_count": 7,
     "metadata": {},
     "output_type": "execute_result"
    }
   ],
   "source": [
    "fuel_demand.head()"
   ]
  },
  {
   "cell_type": "code",
   "execution_count": 8,
   "metadata": {},
   "outputs": [],
   "source": [
    "fuel_demand['Hour'] = fuel_demand['Hour'] -1"
   ]
  },
  {
   "cell_type": "code",
   "execution_count": 9,
   "metadata": {},
   "outputs": [
    {
     "data": {
      "text/html": [
       "<div>\n",
       "<style scoped>\n",
       "    .dataframe tbody tr th:only-of-type {\n",
       "        vertical-align: middle;\n",
       "    }\n",
       "\n",
       "    .dataframe tbody tr th {\n",
       "        vertical-align: top;\n",
       "    }\n",
       "\n",
       "    .dataframe thead th {\n",
       "        text-align: right;\n",
       "    }\n",
       "</style>\n",
       "<table border=\"1\" class=\"dataframe\">\n",
       "  <thead>\n",
       "    <tr style=\"text-align: right;\">\n",
       "      <th></th>\n",
       "      <th>Date</th>\n",
       "      <th>Hour</th>\n",
       "      <th>Ontario Demand</th>\n",
       "      <th>Northwest</th>\n",
       "      <th>Northeast</th>\n",
       "      <th>Ottawa</th>\n",
       "      <th>East</th>\n",
       "      <th>Toronto</th>\n",
       "      <th>Essa</th>\n",
       "      <th>Bruce</th>\n",
       "      <th>Southwest</th>\n",
       "      <th>Niagara</th>\n",
       "      <th>West</th>\n",
       "      <th>Zone Total</th>\n",
       "      <th>Diff</th>\n",
       "    </tr>\n",
       "  </thead>\n",
       "  <tbody>\n",
       "    <tr>\n",
       "      <th>0</th>\n",
       "      <td>2017-01-01</td>\n",
       "      <td>0</td>\n",
       "      <td>13522</td>\n",
       "      <td>495</td>\n",
       "      <td>1476</td>\n",
       "      <td>1051</td>\n",
       "      <td>1203</td>\n",
       "      <td>5665</td>\n",
       "      <td>1045</td>\n",
       "      <td>72</td>\n",
       "      <td>2986</td>\n",
       "      <td>465</td>\n",
       "      <td>1334</td>\n",
       "      <td>15790</td>\n",
       "      <td>2,268</td>\n",
       "    </tr>\n",
       "    <tr>\n",
       "      <th>1</th>\n",
       "      <td>2017-01-01</td>\n",
       "      <td>1</td>\n",
       "      <td>13117</td>\n",
       "      <td>495</td>\n",
       "      <td>1476</td>\n",
       "      <td>1051</td>\n",
       "      <td>1203</td>\n",
       "      <td>5665</td>\n",
       "      <td>1045</td>\n",
       "      <td>72</td>\n",
       "      <td>2986</td>\n",
       "      <td>465</td>\n",
       "      <td>1334</td>\n",
       "      <td>15790</td>\n",
       "      <td>2,673</td>\n",
       "    </tr>\n",
       "    <tr>\n",
       "      <th>2</th>\n",
       "      <td>2017-01-01</td>\n",
       "      <td>2</td>\n",
       "      <td>12816</td>\n",
       "      <td>495</td>\n",
       "      <td>1476</td>\n",
       "      <td>1051</td>\n",
       "      <td>1203</td>\n",
       "      <td>5665</td>\n",
       "      <td>1045</td>\n",
       "      <td>72</td>\n",
       "      <td>2986</td>\n",
       "      <td>465</td>\n",
       "      <td>1334</td>\n",
       "      <td>15790</td>\n",
       "      <td>2,974</td>\n",
       "    </tr>\n",
       "    <tr>\n",
       "      <th>3</th>\n",
       "      <td>2017-01-01</td>\n",
       "      <td>3</td>\n",
       "      <td>12605</td>\n",
       "      <td>495</td>\n",
       "      <td>1476</td>\n",
       "      <td>1051</td>\n",
       "      <td>1203</td>\n",
       "      <td>5665</td>\n",
       "      <td>1045</td>\n",
       "      <td>72</td>\n",
       "      <td>2986</td>\n",
       "      <td>465</td>\n",
       "      <td>1334</td>\n",
       "      <td>15790</td>\n",
       "      <td>3,186</td>\n",
       "    </tr>\n",
       "    <tr>\n",
       "      <th>4</th>\n",
       "      <td>2017-01-01</td>\n",
       "      <td>4</td>\n",
       "      <td>12563</td>\n",
       "      <td>495</td>\n",
       "      <td>1476</td>\n",
       "      <td>1051</td>\n",
       "      <td>1203</td>\n",
       "      <td>5665</td>\n",
       "      <td>1045</td>\n",
       "      <td>72</td>\n",
       "      <td>2986</td>\n",
       "      <td>465</td>\n",
       "      <td>1334</td>\n",
       "      <td>15790</td>\n",
       "      <td>3,227</td>\n",
       "    </tr>\n",
       "  </tbody>\n",
       "</table>\n",
       "</div>"
      ],
      "text/plain": [
       "         Date  Hour  Ontario Demand  Northwest  Northeast  Ottawa  East  \\\n",
       "0  2017-01-01     0           13522        495       1476    1051  1203   \n",
       "1  2017-01-01     1           13117        495       1476    1051  1203   \n",
       "2  2017-01-01     2           12816        495       1476    1051  1203   \n",
       "3  2017-01-01     3           12605        495       1476    1051  1203   \n",
       "4  2017-01-01     4           12563        495       1476    1051  1203   \n",
       "\n",
       "   Toronto  Essa  Bruce  Southwest  Niagara  West  Zone Total   Diff  \n",
       "0     5665  1045     72       2986      465  1334       15790  2,268  \n",
       "1     5665  1045     72       2986      465  1334       15790  2,673  \n",
       "2     5665  1045     72       2986      465  1334       15790  2,974  \n",
       "3     5665  1045     72       2986      465  1334       15790  3,186  \n",
       "4     5665  1045     72       2986      465  1334       15790  3,227  "
      ]
     },
     "execution_count": 9,
     "metadata": {},
     "output_type": "execute_result"
    }
   ],
   "source": [
    "fuel_demand.head()"
   ]
  },
  {
   "cell_type": "markdown",
   "metadata": {},
   "source": [
    "Create Datetime columns in both df"
   ]
  },
  {
   "cell_type": "code",
   "execution_count": 10,
   "metadata": {},
   "outputs": [],
   "source": [
    "fuel_output['Datetime'] = pd.to_datetime(fuel_output['Date']) + pd.to_timedelta(fuel_output['Hour'], unit='h')"
   ]
  },
  {
   "cell_type": "code",
   "execution_count": 11,
   "metadata": {},
   "outputs": [
    {
     "data": {
      "text/html": [
       "<div>\n",
       "<style scoped>\n",
       "    .dataframe tbody tr th:only-of-type {\n",
       "        vertical-align: middle;\n",
       "    }\n",
       "\n",
       "    .dataframe tbody tr th {\n",
       "        vertical-align: top;\n",
       "    }\n",
       "\n",
       "    .dataframe thead th {\n",
       "        text-align: right;\n",
       "    }\n",
       "</style>\n",
       "<table border=\"1\" class=\"dataframe\">\n",
       "  <thead>\n",
       "    <tr style=\"text-align: right;\">\n",
       "      <th></th>\n",
       "      <th>Date</th>\n",
       "      <th>Hour</th>\n",
       "      <th>Fuel</th>\n",
       "      <th>Output</th>\n",
       "      <th>Datetime</th>\n",
       "    </tr>\n",
       "  </thead>\n",
       "  <tbody>\n",
       "    <tr>\n",
       "      <th>0</th>\n",
       "      <td>2017-01-01</td>\n",
       "      <td>0</td>\n",
       "      <td>NUCLEAR</td>\n",
       "      <td>11592</td>\n",
       "      <td>2017-01-01</td>\n",
       "    </tr>\n",
       "    <tr>\n",
       "      <th>1</th>\n",
       "      <td>2017-01-01</td>\n",
       "      <td>0</td>\n",
       "      <td>GAS</td>\n",
       "      <td>234</td>\n",
       "      <td>2017-01-01</td>\n",
       "    </tr>\n",
       "    <tr>\n",
       "      <th>2</th>\n",
       "      <td>2017-01-01</td>\n",
       "      <td>0</td>\n",
       "      <td>HYDRO</td>\n",
       "      <td>2455</td>\n",
       "      <td>2017-01-01</td>\n",
       "    </tr>\n",
       "    <tr>\n",
       "      <th>3</th>\n",
       "      <td>2017-01-01</td>\n",
       "      <td>0</td>\n",
       "      <td>WIND</td>\n",
       "      <td>2433</td>\n",
       "      <td>2017-01-01</td>\n",
       "    </tr>\n",
       "    <tr>\n",
       "      <th>4</th>\n",
       "      <td>2017-01-01</td>\n",
       "      <td>0</td>\n",
       "      <td>SOLAR</td>\n",
       "      <td>0</td>\n",
       "      <td>2017-01-01</td>\n",
       "    </tr>\n",
       "  </tbody>\n",
       "</table>\n",
       "</div>"
      ],
      "text/plain": [
       "         Date  Hour     Fuel  Output   Datetime\n",
       "0  2017-01-01     0  NUCLEAR   11592 2017-01-01\n",
       "1  2017-01-01     0      GAS     234 2017-01-01\n",
       "2  2017-01-01     0    HYDRO    2455 2017-01-01\n",
       "3  2017-01-01     0     WIND    2433 2017-01-01\n",
       "4  2017-01-01     0    SOLAR       0 2017-01-01"
      ]
     },
     "execution_count": 11,
     "metadata": {},
     "output_type": "execute_result"
    }
   ],
   "source": [
    "fuel_output.head()"
   ]
  },
  {
   "cell_type": "code",
   "execution_count": 12,
   "metadata": {},
   "outputs": [],
   "source": [
    "fuel_demand['Datetime'] = pd.to_datetime(fuel_demand['Date']) + pd.to_timedelta(fuel_demand['Hour'], unit='h')"
   ]
  },
  {
   "cell_type": "code",
   "execution_count": 13,
   "metadata": {},
   "outputs": [
    {
     "data": {
      "text/html": [
       "<div>\n",
       "<style scoped>\n",
       "    .dataframe tbody tr th:only-of-type {\n",
       "        vertical-align: middle;\n",
       "    }\n",
       "\n",
       "    .dataframe tbody tr th {\n",
       "        vertical-align: top;\n",
       "    }\n",
       "\n",
       "    .dataframe thead th {\n",
       "        text-align: right;\n",
       "    }\n",
       "</style>\n",
       "<table border=\"1\" class=\"dataframe\">\n",
       "  <thead>\n",
       "    <tr style=\"text-align: right;\">\n",
       "      <th></th>\n",
       "      <th>Date</th>\n",
       "      <th>Hour</th>\n",
       "      <th>Ontario Demand</th>\n",
       "      <th>Northwest</th>\n",
       "      <th>Northeast</th>\n",
       "      <th>Ottawa</th>\n",
       "      <th>East</th>\n",
       "      <th>Toronto</th>\n",
       "      <th>Essa</th>\n",
       "      <th>Bruce</th>\n",
       "      <th>Southwest</th>\n",
       "      <th>Niagara</th>\n",
       "      <th>West</th>\n",
       "      <th>Zone Total</th>\n",
       "      <th>Diff</th>\n",
       "      <th>Datetime</th>\n",
       "    </tr>\n",
       "  </thead>\n",
       "  <tbody>\n",
       "    <tr>\n",
       "      <th>0</th>\n",
       "      <td>2017-01-01</td>\n",
       "      <td>0</td>\n",
       "      <td>13522</td>\n",
       "      <td>495</td>\n",
       "      <td>1476</td>\n",
       "      <td>1051</td>\n",
       "      <td>1203</td>\n",
       "      <td>5665</td>\n",
       "      <td>1045</td>\n",
       "      <td>72</td>\n",
       "      <td>2986</td>\n",
       "      <td>465</td>\n",
       "      <td>1334</td>\n",
       "      <td>15790</td>\n",
       "      <td>2,268</td>\n",
       "      <td>2017-01-01 00:00:00</td>\n",
       "    </tr>\n",
       "    <tr>\n",
       "      <th>1</th>\n",
       "      <td>2017-01-01</td>\n",
       "      <td>1</td>\n",
       "      <td>13117</td>\n",
       "      <td>495</td>\n",
       "      <td>1476</td>\n",
       "      <td>1051</td>\n",
       "      <td>1203</td>\n",
       "      <td>5665</td>\n",
       "      <td>1045</td>\n",
       "      <td>72</td>\n",
       "      <td>2986</td>\n",
       "      <td>465</td>\n",
       "      <td>1334</td>\n",
       "      <td>15790</td>\n",
       "      <td>2,673</td>\n",
       "      <td>2017-01-01 01:00:00</td>\n",
       "    </tr>\n",
       "    <tr>\n",
       "      <th>2</th>\n",
       "      <td>2017-01-01</td>\n",
       "      <td>2</td>\n",
       "      <td>12816</td>\n",
       "      <td>495</td>\n",
       "      <td>1476</td>\n",
       "      <td>1051</td>\n",
       "      <td>1203</td>\n",
       "      <td>5665</td>\n",
       "      <td>1045</td>\n",
       "      <td>72</td>\n",
       "      <td>2986</td>\n",
       "      <td>465</td>\n",
       "      <td>1334</td>\n",
       "      <td>15790</td>\n",
       "      <td>2,974</td>\n",
       "      <td>2017-01-01 02:00:00</td>\n",
       "    </tr>\n",
       "    <tr>\n",
       "      <th>3</th>\n",
       "      <td>2017-01-01</td>\n",
       "      <td>3</td>\n",
       "      <td>12605</td>\n",
       "      <td>495</td>\n",
       "      <td>1476</td>\n",
       "      <td>1051</td>\n",
       "      <td>1203</td>\n",
       "      <td>5665</td>\n",
       "      <td>1045</td>\n",
       "      <td>72</td>\n",
       "      <td>2986</td>\n",
       "      <td>465</td>\n",
       "      <td>1334</td>\n",
       "      <td>15790</td>\n",
       "      <td>3,186</td>\n",
       "      <td>2017-01-01 03:00:00</td>\n",
       "    </tr>\n",
       "    <tr>\n",
       "      <th>4</th>\n",
       "      <td>2017-01-01</td>\n",
       "      <td>4</td>\n",
       "      <td>12563</td>\n",
       "      <td>495</td>\n",
       "      <td>1476</td>\n",
       "      <td>1051</td>\n",
       "      <td>1203</td>\n",
       "      <td>5665</td>\n",
       "      <td>1045</td>\n",
       "      <td>72</td>\n",
       "      <td>2986</td>\n",
       "      <td>465</td>\n",
       "      <td>1334</td>\n",
       "      <td>15790</td>\n",
       "      <td>3,227</td>\n",
       "      <td>2017-01-01 04:00:00</td>\n",
       "    </tr>\n",
       "  </tbody>\n",
       "</table>\n",
       "</div>"
      ],
      "text/plain": [
       "         Date  Hour  Ontario Demand  Northwest  Northeast  Ottawa  East  \\\n",
       "0  2017-01-01     0           13522        495       1476    1051  1203   \n",
       "1  2017-01-01     1           13117        495       1476    1051  1203   \n",
       "2  2017-01-01     2           12816        495       1476    1051  1203   \n",
       "3  2017-01-01     3           12605        495       1476    1051  1203   \n",
       "4  2017-01-01     4           12563        495       1476    1051  1203   \n",
       "\n",
       "   Toronto  Essa  Bruce  Southwest  Niagara  West  Zone Total   Diff  \\\n",
       "0     5665  1045     72       2986      465  1334       15790  2,268   \n",
       "1     5665  1045     72       2986      465  1334       15790  2,673   \n",
       "2     5665  1045     72       2986      465  1334       15790  2,974   \n",
       "3     5665  1045     72       2986      465  1334       15790  3,186   \n",
       "4     5665  1045     72       2986      465  1334       15790  3,227   \n",
       "\n",
       "             Datetime  \n",
       "0 2017-01-01 00:00:00  \n",
       "1 2017-01-01 01:00:00  \n",
       "2 2017-01-01 02:00:00  \n",
       "3 2017-01-01 03:00:00  \n",
       "4 2017-01-01 04:00:00  "
      ]
     },
     "execution_count": 13,
     "metadata": {},
     "output_type": "execute_result"
    }
   ],
   "source": [
    "fuel_demand.head()"
   ]
  },
  {
   "cell_type": "markdown",
   "metadata": {},
   "source": [
    "Groupby Datetime"
   ]
  },
  {
   "cell_type": "code",
   "execution_count": 14,
   "metadata": {},
   "outputs": [],
   "source": [
    "fuel_output_total = pd.DataFrame(fuel_output.groupby('Datetime')['Output'].sum())\n",
    "fuel_output_total.columns = ['fuel_total']"
   ]
  },
  {
   "cell_type": "code",
   "execution_count": 15,
   "metadata": {},
   "outputs": [
    {
     "data": {
      "text/html": [
       "<div>\n",
       "<style scoped>\n",
       "    .dataframe tbody tr th:only-of-type {\n",
       "        vertical-align: middle;\n",
       "    }\n",
       "\n",
       "    .dataframe tbody tr th {\n",
       "        vertical-align: top;\n",
       "    }\n",
       "\n",
       "    .dataframe thead th {\n",
       "        text-align: right;\n",
       "    }\n",
       "</style>\n",
       "<table border=\"1\" class=\"dataframe\">\n",
       "  <thead>\n",
       "    <tr style=\"text-align: right;\">\n",
       "      <th></th>\n",
       "      <th>fuel_total</th>\n",
       "    </tr>\n",
       "    <tr>\n",
       "      <th>Datetime</th>\n",
       "      <th></th>\n",
       "    </tr>\n",
       "  </thead>\n",
       "  <tbody>\n",
       "    <tr>\n",
       "      <th>2017-01-01 00:00:00</th>\n",
       "      <td>16715</td>\n",
       "    </tr>\n",
       "    <tr>\n",
       "      <th>2017-01-01 01:00:00</th>\n",
       "      <td>16344</td>\n",
       "    </tr>\n",
       "    <tr>\n",
       "      <th>2017-01-01 02:00:00</th>\n",
       "      <td>15942</td>\n",
       "    </tr>\n",
       "    <tr>\n",
       "      <th>2017-01-01 03:00:00</th>\n",
       "      <td>15727</td>\n",
       "    </tr>\n",
       "    <tr>\n",
       "      <th>2017-01-01 04:00:00</th>\n",
       "      <td>15653</td>\n",
       "    </tr>\n",
       "  </tbody>\n",
       "</table>\n",
       "</div>"
      ],
      "text/plain": [
       "                     fuel_total\n",
       "Datetime                       \n",
       "2017-01-01 00:00:00       16715\n",
       "2017-01-01 01:00:00       16344\n",
       "2017-01-01 02:00:00       15942\n",
       "2017-01-01 03:00:00       15727\n",
       "2017-01-01 04:00:00       15653"
      ]
     },
     "execution_count": 15,
     "metadata": {},
     "output_type": "execute_result"
    }
   ],
   "source": [
    "fuel_output_total.head()"
   ]
  },
  {
   "cell_type": "markdown",
   "metadata": {},
   "source": [
    "Set index using Datetime"
   ]
  },
  {
   "cell_type": "code",
   "execution_count": 16,
   "metadata": {},
   "outputs": [],
   "source": [
    "fuel_demand.set_index('Datetime',inplace=True)"
   ]
  },
  {
   "cell_type": "code",
   "execution_count": 17,
   "metadata": {},
   "outputs": [
    {
     "data": {
      "text/html": [
       "<div>\n",
       "<style scoped>\n",
       "    .dataframe tbody tr th:only-of-type {\n",
       "        vertical-align: middle;\n",
       "    }\n",
       "\n",
       "    .dataframe tbody tr th {\n",
       "        vertical-align: top;\n",
       "    }\n",
       "\n",
       "    .dataframe thead th {\n",
       "        text-align: right;\n",
       "    }\n",
       "</style>\n",
       "<table border=\"1\" class=\"dataframe\">\n",
       "  <thead>\n",
       "    <tr style=\"text-align: right;\">\n",
       "      <th></th>\n",
       "      <th>Date</th>\n",
       "      <th>Hour</th>\n",
       "      <th>Ontario Demand</th>\n",
       "      <th>Northwest</th>\n",
       "      <th>Northeast</th>\n",
       "      <th>Ottawa</th>\n",
       "      <th>East</th>\n",
       "      <th>Toronto</th>\n",
       "      <th>Essa</th>\n",
       "      <th>Bruce</th>\n",
       "      <th>Southwest</th>\n",
       "      <th>Niagara</th>\n",
       "      <th>West</th>\n",
       "      <th>Zone Total</th>\n",
       "      <th>Diff</th>\n",
       "    </tr>\n",
       "    <tr>\n",
       "      <th>Datetime</th>\n",
       "      <th></th>\n",
       "      <th></th>\n",
       "      <th></th>\n",
       "      <th></th>\n",
       "      <th></th>\n",
       "      <th></th>\n",
       "      <th></th>\n",
       "      <th></th>\n",
       "      <th></th>\n",
       "      <th></th>\n",
       "      <th></th>\n",
       "      <th></th>\n",
       "      <th></th>\n",
       "      <th></th>\n",
       "      <th></th>\n",
       "    </tr>\n",
       "  </thead>\n",
       "  <tbody>\n",
       "    <tr>\n",
       "      <th>2017-01-01 00:00:00</th>\n",
       "      <td>2017-01-01</td>\n",
       "      <td>0</td>\n",
       "      <td>13522</td>\n",
       "      <td>495</td>\n",
       "      <td>1476</td>\n",
       "      <td>1051</td>\n",
       "      <td>1203</td>\n",
       "      <td>5665</td>\n",
       "      <td>1045</td>\n",
       "      <td>72</td>\n",
       "      <td>2986</td>\n",
       "      <td>465</td>\n",
       "      <td>1334</td>\n",
       "      <td>15790</td>\n",
       "      <td>2,268</td>\n",
       "    </tr>\n",
       "    <tr>\n",
       "      <th>2017-01-01 01:00:00</th>\n",
       "      <td>2017-01-01</td>\n",
       "      <td>1</td>\n",
       "      <td>13117</td>\n",
       "      <td>495</td>\n",
       "      <td>1476</td>\n",
       "      <td>1051</td>\n",
       "      <td>1203</td>\n",
       "      <td>5665</td>\n",
       "      <td>1045</td>\n",
       "      <td>72</td>\n",
       "      <td>2986</td>\n",
       "      <td>465</td>\n",
       "      <td>1334</td>\n",
       "      <td>15790</td>\n",
       "      <td>2,673</td>\n",
       "    </tr>\n",
       "    <tr>\n",
       "      <th>2017-01-01 02:00:00</th>\n",
       "      <td>2017-01-01</td>\n",
       "      <td>2</td>\n",
       "      <td>12816</td>\n",
       "      <td>495</td>\n",
       "      <td>1476</td>\n",
       "      <td>1051</td>\n",
       "      <td>1203</td>\n",
       "      <td>5665</td>\n",
       "      <td>1045</td>\n",
       "      <td>72</td>\n",
       "      <td>2986</td>\n",
       "      <td>465</td>\n",
       "      <td>1334</td>\n",
       "      <td>15790</td>\n",
       "      <td>2,974</td>\n",
       "    </tr>\n",
       "    <tr>\n",
       "      <th>2017-01-01 03:00:00</th>\n",
       "      <td>2017-01-01</td>\n",
       "      <td>3</td>\n",
       "      <td>12605</td>\n",
       "      <td>495</td>\n",
       "      <td>1476</td>\n",
       "      <td>1051</td>\n",
       "      <td>1203</td>\n",
       "      <td>5665</td>\n",
       "      <td>1045</td>\n",
       "      <td>72</td>\n",
       "      <td>2986</td>\n",
       "      <td>465</td>\n",
       "      <td>1334</td>\n",
       "      <td>15790</td>\n",
       "      <td>3,186</td>\n",
       "    </tr>\n",
       "    <tr>\n",
       "      <th>2017-01-01 04:00:00</th>\n",
       "      <td>2017-01-01</td>\n",
       "      <td>4</td>\n",
       "      <td>12563</td>\n",
       "      <td>495</td>\n",
       "      <td>1476</td>\n",
       "      <td>1051</td>\n",
       "      <td>1203</td>\n",
       "      <td>5665</td>\n",
       "      <td>1045</td>\n",
       "      <td>72</td>\n",
       "      <td>2986</td>\n",
       "      <td>465</td>\n",
       "      <td>1334</td>\n",
       "      <td>15790</td>\n",
       "      <td>3,227</td>\n",
       "    </tr>\n",
       "  </tbody>\n",
       "</table>\n",
       "</div>"
      ],
      "text/plain": [
       "                           Date  Hour  Ontario Demand  Northwest  Northeast  \\\n",
       "Datetime                                                                      \n",
       "2017-01-01 00:00:00  2017-01-01     0           13522        495       1476   \n",
       "2017-01-01 01:00:00  2017-01-01     1           13117        495       1476   \n",
       "2017-01-01 02:00:00  2017-01-01     2           12816        495       1476   \n",
       "2017-01-01 03:00:00  2017-01-01     3           12605        495       1476   \n",
       "2017-01-01 04:00:00  2017-01-01     4           12563        495       1476   \n",
       "\n",
       "                     Ottawa  East  Toronto  Essa  Bruce  Southwest  Niagara  \\\n",
       "Datetime                                                                      \n",
       "2017-01-01 00:00:00    1051  1203     5665  1045     72       2986      465   \n",
       "2017-01-01 01:00:00    1051  1203     5665  1045     72       2986      465   \n",
       "2017-01-01 02:00:00    1051  1203     5665  1045     72       2986      465   \n",
       "2017-01-01 03:00:00    1051  1203     5665  1045     72       2986      465   \n",
       "2017-01-01 04:00:00    1051  1203     5665  1045     72       2986      465   \n",
       "\n",
       "                     West  Zone Total   Diff  \n",
       "Datetime                                      \n",
       "2017-01-01 00:00:00  1334       15790  2,268  \n",
       "2017-01-01 01:00:00  1334       15790  2,673  \n",
       "2017-01-01 02:00:00  1334       15790  2,974  \n",
       "2017-01-01 03:00:00  1334       15790  3,186  \n",
       "2017-01-01 04:00:00  1334       15790  3,227  "
      ]
     },
     "execution_count": 17,
     "metadata": {},
     "output_type": "execute_result"
    }
   ],
   "source": [
    "fuel_demand.head()"
   ]
  },
  {
   "cell_type": "markdown",
   "metadata": {},
   "source": [
    "Create SBG data by joining the two data and taking the difference"
   ]
  },
  {
   "cell_type": "code",
   "execution_count": 18,
   "metadata": {},
   "outputs": [],
   "source": [
    "SBG = pd.merge(fuel_output_total[['fuel_total']],fuel_demand[['Ontario Demand']], how='inner',left_index=True, right_index=True)"
   ]
  },
  {
   "cell_type": "code",
   "execution_count": 19,
   "metadata": {},
   "outputs": [
    {
     "data": {
      "text/html": [
       "<div>\n",
       "<style scoped>\n",
       "    .dataframe tbody tr th:only-of-type {\n",
       "        vertical-align: middle;\n",
       "    }\n",
       "\n",
       "    .dataframe tbody tr th {\n",
       "        vertical-align: top;\n",
       "    }\n",
       "\n",
       "    .dataframe thead th {\n",
       "        text-align: right;\n",
       "    }\n",
       "</style>\n",
       "<table border=\"1\" class=\"dataframe\">\n",
       "  <thead>\n",
       "    <tr style=\"text-align: right;\">\n",
       "      <th></th>\n",
       "      <th>fuel_total</th>\n",
       "      <th>Ontario Demand</th>\n",
       "    </tr>\n",
       "    <tr>\n",
       "      <th>Datetime</th>\n",
       "      <th></th>\n",
       "      <th></th>\n",
       "    </tr>\n",
       "  </thead>\n",
       "  <tbody>\n",
       "    <tr>\n",
       "      <th>2017-01-01 00:00:00</th>\n",
       "      <td>16715</td>\n",
       "      <td>13522</td>\n",
       "    </tr>\n",
       "    <tr>\n",
       "      <th>2017-01-01 01:00:00</th>\n",
       "      <td>16344</td>\n",
       "      <td>13117</td>\n",
       "    </tr>\n",
       "    <tr>\n",
       "      <th>2017-01-01 02:00:00</th>\n",
       "      <td>15942</td>\n",
       "      <td>12816</td>\n",
       "    </tr>\n",
       "    <tr>\n",
       "      <th>2017-01-01 03:00:00</th>\n",
       "      <td>15727</td>\n",
       "      <td>12605</td>\n",
       "    </tr>\n",
       "    <tr>\n",
       "      <th>2017-01-01 04:00:00</th>\n",
       "      <td>15653</td>\n",
       "      <td>12563</td>\n",
       "    </tr>\n",
       "  </tbody>\n",
       "</table>\n",
       "</div>"
      ],
      "text/plain": [
       "                     fuel_total  Ontario Demand\n",
       "Datetime                                       \n",
       "2017-01-01 00:00:00       16715           13522\n",
       "2017-01-01 01:00:00       16344           13117\n",
       "2017-01-01 02:00:00       15942           12816\n",
       "2017-01-01 03:00:00       15727           12605\n",
       "2017-01-01 04:00:00       15653           12563"
      ]
     },
     "execution_count": 19,
     "metadata": {},
     "output_type": "execute_result"
    }
   ],
   "source": [
    "SBG.head()"
   ]
  },
  {
   "cell_type": "code",
   "execution_count": 20,
   "metadata": {},
   "outputs": [],
   "source": [
    "SBG['Difference'] = SBG['fuel_total'] - SBG['Ontario Demand']"
   ]
  },
  {
   "cell_type": "code",
   "execution_count": 21,
   "metadata": {},
   "outputs": [
    {
     "data": {
      "text/html": [
       "<div>\n",
       "<style scoped>\n",
       "    .dataframe tbody tr th:only-of-type {\n",
       "        vertical-align: middle;\n",
       "    }\n",
       "\n",
       "    .dataframe tbody tr th {\n",
       "        vertical-align: top;\n",
       "    }\n",
       "\n",
       "    .dataframe thead th {\n",
       "        text-align: right;\n",
       "    }\n",
       "</style>\n",
       "<table border=\"1\" class=\"dataframe\">\n",
       "  <thead>\n",
       "    <tr style=\"text-align: right;\">\n",
       "      <th></th>\n",
       "      <th>fuel_total</th>\n",
       "      <th>Ontario Demand</th>\n",
       "      <th>Difference</th>\n",
       "    </tr>\n",
       "    <tr>\n",
       "      <th>Datetime</th>\n",
       "      <th></th>\n",
       "      <th></th>\n",
       "      <th></th>\n",
       "    </tr>\n",
       "  </thead>\n",
       "  <tbody>\n",
       "    <tr>\n",
       "      <th>2017-01-01 00:00:00</th>\n",
       "      <td>16715</td>\n",
       "      <td>13522</td>\n",
       "      <td>3193</td>\n",
       "    </tr>\n",
       "    <tr>\n",
       "      <th>2017-01-01 01:00:00</th>\n",
       "      <td>16344</td>\n",
       "      <td>13117</td>\n",
       "      <td>3227</td>\n",
       "    </tr>\n",
       "    <tr>\n",
       "      <th>2017-01-01 02:00:00</th>\n",
       "      <td>15942</td>\n",
       "      <td>12816</td>\n",
       "      <td>3126</td>\n",
       "    </tr>\n",
       "    <tr>\n",
       "      <th>2017-01-01 03:00:00</th>\n",
       "      <td>15727</td>\n",
       "      <td>12605</td>\n",
       "      <td>3122</td>\n",
       "    </tr>\n",
       "    <tr>\n",
       "      <th>2017-01-01 04:00:00</th>\n",
       "      <td>15653</td>\n",
       "      <td>12563</td>\n",
       "      <td>3090</td>\n",
       "    </tr>\n",
       "  </tbody>\n",
       "</table>\n",
       "</div>"
      ],
      "text/plain": [
       "                     fuel_total  Ontario Demand  Difference\n",
       "Datetime                                                   \n",
       "2017-01-01 00:00:00       16715           13522        3193\n",
       "2017-01-01 01:00:00       16344           13117        3227\n",
       "2017-01-01 02:00:00       15942           12816        3126\n",
       "2017-01-01 03:00:00       15727           12605        3122\n",
       "2017-01-01 04:00:00       15653           12563        3090"
      ]
     },
     "execution_count": 21,
     "metadata": {},
     "output_type": "execute_result"
    }
   ],
   "source": [
    "SBG.head()"
   ]
  },
  {
   "cell_type": "markdown",
   "metadata": {},
   "source": [
    "Check if there's any cell with difference less than 0"
   ]
  },
  {
   "cell_type": "code",
   "execution_count": 24,
   "metadata": {},
   "outputs": [
    {
     "data": {
      "text/plain": [
       "fuel_total        697\n",
       "Ontario Demand    697\n",
       "Difference        697\n",
       "dtype: int64"
      ]
     },
     "execution_count": 24,
     "metadata": {},
     "output_type": "execute_result"
    }
   ],
   "source": [
    "SBG[SBG['Difference']<0].count()"
   ]
  },
  {
   "cell_type": "markdown",
   "metadata": {},
   "source": [
    "Assign negative numbers with 0's "
   ]
  },
  {
   "cell_type": "code",
   "execution_count": 25,
   "metadata": {},
   "outputs": [],
   "source": [
    "SBG.loc[SBG['Difference']<=0,'Difference'] = 0"
   ]
  },
  {
   "cell_type": "code",
   "execution_count": 26,
   "metadata": {},
   "outputs": [
    {
     "data": {
      "text/plain": [
       "fuel_total        0\n",
       "Ontario Demand    0\n",
       "Difference        0\n",
       "dtype: int64"
      ]
     },
     "execution_count": 26,
     "metadata": {},
     "output_type": "execute_result"
    }
   ],
   "source": [
    "SBG[SBG['Difference']<0].count()"
   ]
  },
  {
   "cell_type": "markdown",
   "metadata": {},
   "source": [
    "Export the SBG data to a csv file"
   ]
  },
  {
   "cell_type": "code",
   "execution_count": 27,
   "metadata": {},
   "outputs": [],
   "source": [
    "SBG.to_csv('exportfile'+'.csv', index=True, sep=',')"
   ]
  },
  {
   "cell_type": "markdown",
   "metadata": {},
   "source": [
    "# Linear Programming"
   ]
  },
  {
   "cell_type": "code",
   "execution_count": 2,
   "metadata": {},
   "outputs": [],
   "source": [
    "from pulp import *"
   ]
  },
  {
   "cell_type": "code",
   "execution_count": 22,
   "metadata": {},
   "outputs": [
    {
     "name": "stdout",
     "output_type": "stream",
     "text": [
      "Giapetto:\n",
      "MAXIMIZE\n",
      "None\n",
      "VARIABLES\n",
      "\n"
     ]
    },
    {
     "data": {
      "text/plain": [
       "Giapetto:\n",
       "MAXIMIZE\n",
       "20*x1 + 30*x2 + 0\n",
       "SUBJECT TO\n",
       "_C1: x1 + 2 x2 <= 100\n",
       "\n",
       "_C2: 2 x1 + x2 <= 100\n",
       "\n",
       "VARIABLES\n",
       "x1 Continuous\n",
       "x2 Continuous"
      ]
     },
     "execution_count": 22,
     "metadata": {},
     "output_type": "execute_result"
    }
   ],
   "source": [
    "prob = LpProblem(\"Giapetto\",LpMaximize)\n",
    "print(prob)\n",
    "\n",
    "#Linear programming variables \n",
    "x1 = LpVariable(\"x1\", lowBound = 0)\n",
    "x2 = LpVariable(\"x2\", lowBound =0)\n",
    "\n",
    "#Objective Function\n",
    "prob += 20*x1 + 30*x2\n",
    "\n",
    "#Constraint equations \n",
    "prob += 1*x1 + 2*x2 <= 100\n",
    "prob += 2*x1 + 1*x2 <= 100\n",
    "prob"
   ]
  },
  {
   "cell_type": "code",
   "execution_count": 23,
   "metadata": {},
   "outputs": [],
   "source": [
    "status = prob.solve()"
   ]
  },
  {
   "cell_type": "code",
   "execution_count": 24,
   "metadata": {},
   "outputs": [
    {
     "data": {
      "text/plain": [
       "'Optimal'"
      ]
     },
     "execution_count": 24,
     "metadata": {},
     "output_type": "execute_result"
    }
   ],
   "source": [
    "LpStatus[status]"
   ]
  },
  {
   "cell_type": "code",
   "execution_count": 25,
   "metadata": {},
   "outputs": [
    {
     "data": {
      "text/plain": [
       "(33.333333, 33.333333, 1666.6666500000001)"
      ]
     },
     "execution_count": 25,
     "metadata": {},
     "output_type": "execute_result"
    }
   ],
   "source": [
    "value(x1), value(x2), value(prob.objective)"
   ]
  },
  {
   "cell_type": "code",
   "execution_count": null,
   "metadata": {},
   "outputs": [],
   "source": []
  }
 ],
 "metadata": {
  "kernelspec": {
   "display_name": "Python 3",
   "language": "python",
   "name": "python3"
  },
  "language_info": {
   "codemirror_mode": {
    "name": "ipython",
    "version": 3
   },
   "file_extension": ".py",
   "mimetype": "text/x-python",
   "name": "python",
   "nbconvert_exporter": "python",
   "pygments_lexer": "ipython3",
   "version": "3.6.4"
  }
 },
 "nbformat": 4,
 "nbformat_minor": 2
}
